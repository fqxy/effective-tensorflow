{
 "cells": [
  {
   "cell_type": "markdown",
   "metadata": {},
   "source": [
    "### 1.交叉熵实验"
   ]
  },
  {
   "cell_type": "code",
   "execution_count": 1,
   "metadata": {},
   "outputs": [],
   "source": [
    "import tensorflow as tf"
   ]
  },
  {
   "cell_type": "code",
   "execution_count": 2,
   "metadata": {},
   "outputs": [],
   "source": [
    "labels = [[0, 0, 1], \n",
    "          [0, 1, 0]]\n",
    "logits = [[2,  0.5, 6],\n",
    "          [0.1, 0,  3]]\n",
    "logits_scaled = tf.nn.softmax(logits)\n",
    "logits_scaled2 = tf.nn.softmax(logits_scaled)"
   ]
  },
  {
   "cell_type": "code",
   "execution_count": 5,
   "metadata": {},
   "outputs": [],
   "source": [
    "# 正确\n",
    "result1 = tf.nn.softmax_cross_entropy_with_logits(labels=labels, logits=logits)\n",
    "\n",
    "# 错误，传入softmax_cross_entropy_with_logits的logits是不需要进行softmax的\n",
    "result2 = tf.nn.softmax_cross_entropy_with_logits(labels=labels, logits=logits_scaled)\n",
    "\n",
    "# 正确，如果已经用了softmax，就用自己写的函数\n",
    "result3 = -tf.reduce_sum(labels*tf.log(logits_scaled), 1)"
   ]
  },
  {
   "cell_type": "code",
   "execution_count": 6,
   "metadata": {},
   "outputs": [
    {
     "name": "stdout",
     "output_type": "stream",
     "text": [
      "scaled= [[0.01791432 0.00399722 0.97808844]\n",
      " [0.04980332 0.04506391 0.90513283]]\n",
      "scaled2= [[0.21747023 0.21446465 0.56806517]\n",
      " [0.2300214  0.22893383 0.5410447 ]]\n",
      "rel1= [0.02215516 3.0996735 ] \n",
      "\n",
      "rel2= [0.56551915 1.4743223 ] \n",
      "\n",
      "rel3= [0.02215518 3.0996735 ]\n"
     ]
    }
   ],
   "source": [
    "with tf.Session() as sess:\n",
    "    print(\"scaled=\", sess.run(logits_scaled))\n",
    "    print(\"scaled2=\", sess.run(logits_scaled2))  # 经过第二次的softmax后，分布概率会有变化\n",
    "\n",
    "    print(\"rel1=\", sess.run(result1), \"\\n\")  # 正确的方式\n",
    "    # 如果将softmax变换完的值放进去会，就相当于算第二次softmax的loss，所以会出错\n",
    "    print(\"rel2=\", sess.run(result2), \"\\n\")\n",
    "    print(\"rel3=\", sess.run(result3))"
   ]
  },
  {
   "cell_type": "code",
   "execution_count": null,
   "metadata": {},
   "outputs": [],
   "source": [
    "# 标签总概率为1\n",
    "labels = [[0.4, 0.1, 0.5], [0.3, 0.6, 0.1]]\n",
    "result4 = tf.nn.softmax_cross_entropy_with_logits(labels=labels, logits=logits)\n",
    "with tf.Session() as sess:\n",
    "    print(\"rel4=\", sess.run(result4), \"\\n\")"
   ]
  },
  {
   "cell_type": "code",
   "execution_count": null,
   "metadata": {},
   "outputs": [],
   "source": [
    "# sparse\n",
    "labels = [2, 1]  # 其实是0 1 2 三个类。等价 第一行 001 第二行 010\n",
    "result5 = tf.nn.sparse_softmax_cross_entropy_with_logits(\n",
    "    labels=labels, logits=logits)\n",
    "with tf.Session() as sess:\n",
    "    print(\"rel5=\", sess.run(result5), \"\\n\")"
   ]
  },
  {
   "cell_type": "code",
   "execution_count": null,
   "metadata": {},
   "outputs": [],
   "source": [
    "# 注意！！！这个函数的返回值并不是一个数，而是一个向量，\n",
    "# 如果要求交叉熵loss，我们要对向量求均值，\n",
    "# 就是对向量再做一步tf.reduce_mean操作\n",
    "loss = tf.reduce_mean(result1)\n",
    "with tf.Session() as sess:\n",
    "    print(\"loss=\", sess.run(loss))"
   ]
  },
  {
   "cell_type": "code",
   "execution_count": null,
   "metadata": {},
   "outputs": [],
   "source": [
    "labels = [[0, 0, 1], [0, 1, 0]]\n",
    "loss2 = tf.reduce_mean(-tf.reduce_sum(labels * tf.log(logits_scaled), 1))\n",
    "with tf.Session() as sess:\n",
    "    print(\"loss2=\", sess.run(loss2))"
   ]
  }
 ],
 "metadata": {
  "kernelspec": {
   "display_name": "Python [conda env:tf]",
   "language": "python",
   "name": "conda-env-tf-py"
  },
  "language_info": {
   "codemirror_mode": {
    "name": "ipython",
    "version": 3
   },
   "file_extension": ".py",
   "mimetype": "text/x-python",
   "name": "python",
   "nbconvert_exporter": "python",
   "pygments_lexer": "ipython3",
   "version": "3.6.2"
  }
 },
 "nbformat": 4,
 "nbformat_minor": 2
}
