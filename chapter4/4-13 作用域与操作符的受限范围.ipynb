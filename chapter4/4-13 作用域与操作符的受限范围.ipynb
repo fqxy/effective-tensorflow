{
 "cells": [
  {
   "cell_type": "code",
   "execution_count": 1,
   "metadata": {},
   "outputs": [],
   "source": [
    "import tensorflow as tf\n",
    "\n",
    "tf.reset_default_graph()"
   ]
  },
  {
   "cell_type": "code",
   "execution_count": 2,
   "metadata": {},
   "outputs": [
    {
     "name": "stdout",
     "output_type": "stream",
     "text": [
      "sp: scope1\n",
      "var1: scope1/v:0\n"
     ]
    }
   ],
   "source": [
    "with tf.variable_scope(\"scope1\") as sp:\n",
    "    var1 = tf.get_variable(\"v\", [1])\n",
    "\n",
    "print(\"sp:\", sp.name)\n",
    "print(\"var1:\", var1.name)"
   ]
  },
  {
   "cell_type": "code",
   "execution_count": 3,
   "metadata": {},
   "outputs": [
    {
     "name": "stdout",
     "output_type": "stream",
     "text": [
      "sp1: scope1\n",
      "var2: scope2/v:0\n",
      "var3: scope1/v3:0\n",
      "var4: scope1//v4:0\n"
     ]
    }
   ],
   "source": [
    "with tf.variable_scope(\"scope2\"):\n",
    "    var2 = tf.get_variable(\"v\", [1])\n",
    "\n",
    "    # sp不会受到外层scope2的限制\n",
    "    with tf.variable_scope(sp) as sp1:\n",
    "        var3 = tf.get_variable(\"v3\", [1])\n",
    "\n",
    "        # 空命名，var4会多一个空层\n",
    "        with tf.variable_scope(\"\"):\n",
    "            var4 = tf.get_variable(\"v4\", [1])\n",
    "\n",
    "print(\"sp1:\", sp1.name)\n",
    "print(\"var2:\", var2.name)\n",
    "print(\"var3:\", var3.name)\n",
    "print(\"var4:\", var4.name)"
   ]
  },
  {
   "cell_type": "code",
   "execution_count": 4,
   "metadata": {},
   "outputs": [
    {
     "name": "stdout",
     "output_type": "stream",
     "text": [
      "v: scope/v:0\n",
      "x.op: scope/bar/add\n",
      "y.op: add\n"
     ]
    }
   ],
   "source": [
    "with tf.variable_scope(\"scope\"):\n",
    "    # 操作符op要同时受到tf.name_scope和tf.variable_scope的限制\n",
    "    with tf.name_scope(\"bar\"):\n",
    "        # v只会受到tf.variable_scope的限制\n",
    "        v = tf.get_variable(\"v\", [1])\n",
    "        \n",
    "        # tf.name_scope只能限制op，不能限制变量的命名\n",
    "        x = 1.0 + v\n",
    "        \n",
    "        # 空命名，y会变为顶层\n",
    "        with tf.name_scope(\"\"):\n",
    "            y = 1.0 + v\n",
    "print(\"v:\", v.name)\n",
    "print(\"x.op:\", x.op.name)\n",
    "print(\"y.op:\", y.op.name)"
   ]
  },
  {
   "cell_type": "code",
   "execution_count": null,
   "metadata": {},
   "outputs": [],
   "source": []
  }
 ],
 "metadata": {
  "kernelspec": {
   "display_name": "Python [conda env:tf]",
   "language": "python",
   "name": "conda-env-tf-py"
  },
  "language_info": {
   "codemirror_mode": {
    "name": "ipython",
    "version": 3
   },
   "file_extension": ".py",
   "mimetype": "text/x-python",
   "name": "python",
   "nbconvert_exporter": "python",
   "pygments_lexer": "ipython3",
   "version": "3.6.2"
  }
 },
 "nbformat": 4,
 "nbformat_minor": 2
}
