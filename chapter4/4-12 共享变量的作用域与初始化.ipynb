{
 "cells": [
  {
   "cell_type": "code",
   "execution_count": 1,
   "metadata": {},
   "outputs": [],
   "source": [
    "import tensorflow as tf"
   ]
  },
  {
   "cell_type": "code",
   "execution_count": 2,
   "metadata": {},
   "outputs": [],
   "source": [
    "# 将test1作用域进行初始化为4.0\n",
    "with tf.variable_scope(\"test1\", initializer=tf.constant_initializer(0.4)):\n",
    "    # var1没有初始化\n",
    "    var1 = tf.get_variable(\"firstvar\", shape=[2], dtype=tf.float32)\n",
    "    \n",
    "    # 嵌套的test2作用域也没有初始化\n",
    "    with tf.variable_scope(\"test2\"):\n",
    "        var2 = tf.get_variable(\"firstvar\", shape=[2], dtype=tf.float32)\n",
    "        # var3进行了初始化\n",
    "        var3 = tf.get_variable(\"var3\", shape=[2], initializer=tf.constant_initializer(0.3))"
   ]
  },
  {
   "cell_type": "code",
   "execution_count": 3,
   "metadata": {},
   "outputs": [
    {
     "name": "stdout",
     "output_type": "stream",
     "text": [
      "var1= [0.4 0.4]\n",
      "var2= [0.4 0.4]\n",
      "var3= [0.3 0.3]\n"
     ]
    }
   ],
   "source": [
    "with tf.Session() as sess:\n",
    "    sess.run(tf.global_variables_initializer())\n",
    "    print(\"var1=\", var1.eval())\n",
    "    print(\"var2=\", var2.eval())\n",
    "    print(\"var3=\", var3.eval())"
   ]
  },
  {
   "cell_type": "code",
   "execution_count": null,
   "metadata": {},
   "outputs": [],
   "source": []
  }
 ],
 "metadata": {
  "kernelspec": {
   "display_name": "Python [conda env:tf]",
   "language": "python",
   "name": "conda-env-tf-py"
  },
  "language_info": {
   "codemirror_mode": {
    "name": "ipython",
    "version": 3
   },
   "file_extension": ".py",
   "mimetype": "text/x-python",
   "name": "python",
   "nbconvert_exporter": "python",
   "pygments_lexer": "ipython3",
   "version": "3.6.2"
  }
 },
 "nbformat": 4,
 "nbformat_minor": 2
}
