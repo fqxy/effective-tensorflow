{
 "cells": [
  {
   "cell_type": "code",
   "execution_count": 1,
   "metadata": {},
   "outputs": [],
   "source": [
    "import tensorflow as tf\n",
    "\n",
    "tf.reset_default_graph()"
   ]
  },
  {
   "cell_type": "markdown",
   "metadata": {},
   "source": [
    "### 嵌套定义"
   ]
  },
  {
   "cell_type": "code",
   "execution_count": 2,
   "metadata": {},
   "outputs": [
    {
     "name": "stdout",
     "output_type": "stream",
     "text": [
      "var1: test1/firstvar:0\n",
      "var2: test1/test2/firstvar:0\n"
     ]
    }
   ],
   "source": [
    "with tf.variable_scope(\"test1\", ):\n",
    "    var1 = tf.get_variable(\"firstvar\", shape=[2], dtype=tf.float32)\n",
    "\n",
    "    with tf.variable_scope(\"test2\"):\n",
    "        var2 = tf.get_variable(\"firstvar\", shape=[2], dtype=tf.float32)\n",
    "\n",
    "print(\"var1:\", var1.name)\n",
    "print(\"var2:\", var2.name)"
   ]
  },
  {
   "cell_type": "code",
   "execution_count": 3,
   "metadata": {},
   "outputs": [
    {
     "name": "stdout",
     "output_type": "stream",
     "text": [
      "var3: test1/firstvar:0\n",
      "var4: test1/test2/firstvar:0\n"
     ]
    }
   ],
   "source": [
    "# reuse=True表示使用已经定义过的变量\n",
    "# 这时get_variable将不会再创建新的变量，而是去找name相同的变量\n",
    "with tf.variable_scope(\"test1\", reuse=True):\n",
    "    var3 = tf.get_variable(\"firstvar\", shape=[2], dtype=tf.float32)\n",
    "    with tf.variable_scope(\"test2\"):\n",
    "        var4 = tf.get_variable(\"firstvar\", shape=[2], dtype=tf.float32)\n",
    "\n",
    "print(\"var3:\", var3.name)\n",
    "print(\"var4:\", var4.name)\n",
    "\n",
    "# var1和var3共用一个变量\n",
    "# var2和var4共用一个变量"
   ]
  },
  {
   "cell_type": "code",
   "execution_count": null,
   "metadata": {},
   "outputs": [],
   "source": []
  }
 ],
 "metadata": {
  "kernelspec": {
   "display_name": "Python [conda env:tf]",
   "language": "python",
   "name": "conda-env-tf-py"
  },
  "language_info": {
   "codemirror_mode": {
    "name": "ipython",
    "version": 3
   },
   "file_extension": ".py",
   "mimetype": "text/x-python",
   "name": "python",
   "nbconvert_exporter": "python",
   "pygments_lexer": "ipython3",
   "version": "3.6.2"
  }
 },
 "nbformat": 4,
 "nbformat_minor": 2
}
