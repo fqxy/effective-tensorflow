{
 "cells": [
  {
   "cell_type": "code",
   "execution_count": 1,
   "metadata": {},
   "outputs": [
    {
     "name": "stdout",
     "output_type": "stream",
     "text": [
      "tensor_name:  bias\n",
      "[0.01904997]\n",
      "tensor_name:  weight\n",
      "[1.9583454]\n"
     ]
    }
   ],
   "source": [
    "import tensorflow as tf\n",
    "from tensorflow.python.tools.inspect_checkpoint import print_tensors_in_checkpoint_file\n",
    "savedir = \"log/\"\n",
    "print_tensors_in_checkpoint_file(savedir+\"linermodel.cpkt\", None, True)"
   ]
  },
  {
   "cell_type": "code",
   "execution_count": 2,
   "metadata": {},
   "outputs": [],
   "source": [
    "W = tf.Variable(1.0, name=\"weight\")\n",
    "b = tf.Variable(2.0, name=\"bias\")"
   ]
  },
  {
   "cell_type": "code",
   "execution_count": 3,
   "metadata": {},
   "outputs": [
    {
     "name": "stdout",
     "output_type": "stream",
     "text": [
      "tensor_name:  bias\n",
      "1.0\n",
      "tensor_name:  weight\n",
      "2.0\n"
     ]
    }
   ],
   "source": [
    "# 放到一个字典里:\n",
    "# 将b变量的值放到weight中，将W变量的值放到bias中\n",
    "\n",
    "# 方法1：定义字典法\n",
    "saver = tf.train.Saver({'weight': b, 'bias': W})\n",
    "\n",
    "# 方法2：遍历字典法\n",
    "saver = tf.train.Saver({v.op.name: v for v in [W, b]})\n",
    "\n",
    "# 方法3：列表法\n",
    "saver = tf.train.Saver([W, b])"
   ]
  },
  {
   "cell_type": "code",
   "execution_count": null,
   "metadata": {},
   "outputs": [],
   "source": [
    "with tf.Session() as sess:\n",
    "    # 初始化，可不进行\n",
    "    tf.global_variables_initializer().run()\n",
    "    saver.save(sess, savedir+\"linermodel.cpkt\")\n",
    "\n",
    "print_tensors_in_checkpoint_file(savedir+\"linermodel.cpkt\", None, True)"
   ]
  }
 ],
 "metadata": {
  "kernelspec": {
   "display_name": "Python [conda env:tf]",
   "language": "python",
   "name": "conda-env-tf-py"
  },
  "language_info": {
   "codemirror_mode": {
    "name": "ipython",
    "version": 3
   },
   "file_extension": ".py",
   "mimetype": "text/x-python",
   "name": "python",
   "nbconvert_exporter": "python",
   "pygments_lexer": "ipython3",
   "version": "3.6.2"
  }
 },
 "nbformat": 4,
 "nbformat_minor": 2
}
