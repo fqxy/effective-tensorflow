{
 "cells": [
  {
   "cell_type": "code",
   "execution_count": 5,
   "metadata": {},
   "outputs": [],
   "source": [
    "import tensorflow as tf\n",
    "\n",
    "# 将图(一个计算任务)里面的变量清空\n",
    "tf.reset_default_graph() "
   ]
  },
  {
   "cell_type": "code",
   "execution_count": 6,
   "metadata": {},
   "outputs": [],
   "source": [
    "# 由前面可知以下定义变量不可行\n",
    "#var1 = tf.get_variable(\"firstvar\",shape=[2],dtype=tf.float32)   \n",
    "#var2 = tf.get_variable(\"firstvar\",shape=[2],dtype=tf.float32)    "
   ]
  },
  {
   "cell_type": "code",
   "execution_count": 7,
   "metadata": {},
   "outputs": [
    {
     "name": "stdout",
     "output_type": "stream",
     "text": [
      "var1: test1/firstvar:0\n",
      "var2: test2/firstvar:0\n"
     ]
    }
   ],
   "source": [
    "# 应该用variable_scope将它们隔开\n",
    "with tf.variable_scope(\"test1\", ):\n",
    "    var1 = tf.get_variable(\"firstvar\", shape=[2], dtype=tf.float32)\n",
    "\n",
    "with tf.variable_scope(\"test2\"):\n",
    "    var2 = tf.get_variable(\"firstvar\", shape=[2], dtype=tf.float32)\n",
    "\n",
    "print(\"var1:\", var1.name)\n",
    "print(\"var2:\", var2.name)"
   ]
  },
  {
   "cell_type": "code",
   "execution_count": null,
   "metadata": {},
   "outputs": [],
   "source": []
  }
 ],
 "metadata": {
  "kernelspec": {
   "display_name": "Python [conda env:tf]",
   "language": "python",
   "name": "conda-env-tf-py"
  },
  "language_info": {
   "codemirror_mode": {
    "name": "ipython",
    "version": 3
   },
   "file_extension": ".py",
   "mimetype": "text/x-python",
   "name": "python",
   "nbconvert_exporter": "python",
   "pygments_lexer": "ipython3",
   "version": "3.6.2"
  }
 },
 "nbformat": 4,
 "nbformat_minor": 2
}
