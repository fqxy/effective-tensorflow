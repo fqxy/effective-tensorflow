{
 "cells": [
  {
   "cell_type": "code",
   "execution_count": null,
   "metadata": {},
   "outputs": [],
   "source": [
    "import tensorflow as tf\n",
    "import numpy as np\n",
    "import matplotlib.pyplot as plt"
   ]
  },
  {
   "cell_type": "code",
   "execution_count": null,
   "metadata": {},
   "outputs": [],
   "source": [
    "plotdata = { \"batchsize\":[], \"loss\":[] }\n",
    "def moving_average(a, w=10):\n",
    "    if len(a) < w: \n",
    "        return a[:]    \n",
    "    return [val if idx < w else sum(a[(idx-w):idx])/w for idx, val in enumerate(a)]"
   ]
  },
  {
   "cell_type": "code",
   "execution_count": null,
   "metadata": {},
   "outputs": [],
   "source": [
    "#生成模拟数据\n",
    "train_X = np.linspace(-1, 1, 100)\n",
    "train_Y = 2 * train_X + np.random.randn(*train_X.shape) * 0.3 # y=2x，但是加入了噪声\n",
    "#图形显示\n",
    "plt.plot(train_X, train_Y, 'ro', label='Original data')\n",
    "plt.legend()\n",
    "plt.show()"
   ]
  },
  {
   "cell_type": "code",
   "execution_count": null,
   "metadata": {},
   "outputs": [],
   "source": [
    "tf.reset_default_graph()"
   ]
  },
  {
   "cell_type": "code",
   "execution_count": null,
   "metadata": {},
   "outputs": [],
   "source": [
    "# 创建模型\n",
    "# 占位符\n",
    "X = tf.placeholder(\"float\")\n",
    "Y = tf.placeholder(\"float\")\n",
    "# 模型参数\n",
    "W = tf.Variable(tf.random_normal([1]), name=\"weight\")\n",
    "b = tf.Variable(tf.zeros([1]), name=\"bias\")\n",
    "\n",
    "# 前向结构\n",
    "z = tf.multiply(X, W) + b\n",
    "# 将预测值以直方图显示\n",
    "tf.summary.histogram('z', z)  "
   ]
  },
  {
   "cell_type": "code",
   "execution_count": null,
   "metadata": {},
   "outputs": [],
   "source": [
    "# 反向优化\n",
    "cost = tf.reduce_mean(tf.square(Y - z))\n",
    "# 将损失以标量显示\n",
    "tf.summary.scalar('loss_function', cost)  \n",
    "learning_rate = 0.01\n",
    "# Gradient descent\n",
    "optimizer = tf.train.GradientDescentOptimizer(learning_rate).minimize(cost)  "
   ]
  },
  {
   "cell_type": "code",
   "execution_count": null,
   "metadata": {},
   "outputs": [],
   "source": [
    "# 初始化变量\n",
    "init = tf.global_variables_initializer()\n",
    "# 参数设置\n",
    "training_epochs = 20\n",
    "display_step = 2"
   ]
  },
  {
   "cell_type": "code",
   "execution_count": null,
   "metadata": {},
   "outputs": [],
   "source": [
    "# 启动session\n",
    "with tf.Session() as sess:\n",
    "    sess.run(init)\n",
    "\n",
    "    merged_summary_op = tf.summary.merge_all()  # 合并所有summary\n",
    "    # 创建summary_writer，在迭代中将summary的值运行生成出来，同时添加到文件里\n",
    "    summary_writer = tf.summary.FileWriter(\n",
    "        'log/mnist_with_summaries', sess.graph)\n",
    "\n",
    "    # Fit all training data\n",
    "    for epoch in range(training_epochs):\n",
    "        for (x, y) in zip(train_X, train_Y):\n",
    "            sess.run(optimizer, feed_dict={X: x, Y: y})\n",
    "\n",
    "            # 生成summary\n",
    "            summary_str = sess.run(merged_summary_op, feed_dict={X: x, Y: y})\n",
    "            summary_writer.add_summary(summary_str, epoch)  # 将summary 写入文件\n",
    "\n",
    "        # 显示训练中的详细信息\n",
    "        if epoch % display_step == 0:\n",
    "            loss = sess.run(cost, feed_dict={X: train_X, Y: train_Y})\n",
    "            print(\"Epoch:\", epoch+1,\n",
    "                  \"cost=\", loss,\n",
    "                  \"W=\", sess.run(W),\n",
    "                  \"b=\", sess.run(b))\n",
    "            if not (loss == \"NA\"):\n",
    "                plotdata[\"batchsize\"].append(epoch)\n",
    "                plotdata[\"loss\"].append(loss)\n",
    "\n",
    "    print(\" Finished!\")\n",
    "    print(\"cost=\", sess.run(cost, feed_dict={X: train_X, Y: train_Y}),\n",
    "          \"W=\", sess.run(W),\n",
    "          \"b=\", sess.run(b))\n",
    "    #print (\"cost:\",cost.eval({X: train_X, Y: train_Y}))\n",
    "\n",
    "    # 图形显示\n",
    "    plt.plot(train_X, train_Y, 'ro', label='Original data')\n",
    "    plt.plot(train_X, sess.run(W) * train_X + sess.run(b), label='Fitted line')\n",
    "    plt.legend()\n",
    "    plt.show()\n",
    "\n",
    "    plotdata[\"avgloss\"] = moving_average(plotdata[\"loss\"])\n",
    "    plt.figure(1)\n",
    "    plt.subplot(211)\n",
    "    plt.plot(plotdata[\"batchsize\"], plotdata[\"avgloss\"], 'b--')\n",
    "    plt.xlabel('Minibatch number')\n",
    "    plt.ylabel('Loss')\n",
    "    plt.title('Minibatch run vs. Training loss')\n",
    "\n",
    "    plt.show()\n",
    "\n",
    "    print(\"x=0.2，z=\", sess.run(z, feed_dict={X: 0.2}))"
   ]
  }
 ],
 "metadata": {
  "kernelspec": {
   "display_name": "Python [conda env:tf]",
   "language": "python",
   "name": "conda-env-tf-py"
  },
  "language_info": {
   "codemirror_mode": {
    "name": "ipython",
    "version": 3
   },
   "file_extension": ".py",
   "mimetype": "text/x-python",
   "name": "python",
   "nbconvert_exporter": "python",
   "pygments_lexer": "ipython3",
   "version": "3.6.2"
  }
 },
 "nbformat": 4,
 "nbformat_minor": 2
}
