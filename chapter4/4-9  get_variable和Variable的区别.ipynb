{
 "cells": [
  {
   "cell_type": "markdown",
   "metadata": {},
   "source": [
    "### 1.Variable的用法"
   ]
  },
  {
   "cell_type": "code",
   "execution_count": 1,
   "metadata": {},
   "outputs": [],
   "source": [
    "import tensorflow as tf"
   ]
  },
  {
   "cell_type": "code",
   "execution_count": 2,
   "metadata": {},
   "outputs": [],
   "source": [
    "tf.reset_default_graph()"
   ]
  },
  {
   "cell_type": "code",
   "execution_count": 3,
   "metadata": {},
   "outputs": [
    {
     "name": "stdout",
     "output_type": "stream",
     "text": [
      "var1: firstvar:0\n"
     ]
    }
   ],
   "source": [
    "var1 = tf.Variable(1.0, name='firstvar')\n",
    "print(\"var1:\", var1.name)"
   ]
  },
  {
   "cell_type": "code",
   "execution_count": 4,
   "metadata": {},
   "outputs": [
    {
     "name": "stdout",
     "output_type": "stream",
     "text": [
      "var1: firstvar_1:0\n"
     ]
    }
   ],
   "source": [
    "var1 = tf.Variable(2.0, name='firstvar')\n",
    "print(\"var1:\", var1.name)"
   ]
  },
  {
   "cell_type": "code",
   "execution_count": 5,
   "metadata": {},
   "outputs": [
    {
     "name": "stdout",
     "output_type": "stream",
     "text": [
      "var2: Variable:0\n"
     ]
    }
   ],
   "source": [
    "var2 = tf.Variable(3.0)\n",
    "print(\"var2:\", var2.name)"
   ]
  },
  {
   "cell_type": "code",
   "execution_count": 8,
   "metadata": {},
   "outputs": [
    {
     "name": "stdout",
     "output_type": "stream",
     "text": [
      "var2: Variable_2:0\n"
     ]
    }
   ],
   "source": [
    "var2 = tf.Variable(4.0)\n",
    "print(\"var2:\", var2.name)"
   ]
  },
  {
   "cell_type": "code",
   "execution_count": 7,
   "metadata": {},
   "outputs": [
    {
     "name": "stdout",
     "output_type": "stream",
     "text": [
      "var1= 2.0\n",
      "var2= 4.0\n"
     ]
    }
   ],
   "source": [
    "with tf.Session() as sess:\n",
    "    sess.run(tf.global_variables_initializer())\n",
    "    print(\"var1=\", var1.eval())\n",
    "    print(\"var2=\", var2.eval())"
   ]
  },
  {
   "cell_type": "markdown",
   "metadata": {},
   "source": [
    "### 2.get_variable用法演示"
   ]
  },
  {
   "cell_type": "code",
   "execution_count": 9,
   "metadata": {},
   "outputs": [
    {
     "name": "stdout",
     "output_type": "stream",
     "text": [
      "get_var1: firstvar_2:0\n"
     ]
    }
   ],
   "source": [
    "get_var1 = tf.get_variable(\n",
    "    \"firstvar\", [1], initializer=tf.constant_initializer(0.3))\n",
    "print(\"get_var1:\", get_var1.name)\n",
    "\n",
    "#get_var1 = tf.get_variable(\n",
    "#    \"firstvar\",[1], initializer=tf.constant_initializer(0.4))\n",
    "#print (\"get_var1:\",get_var1.name)\n",
    "\n",
    "# 定义第2个get_var1会发生错误\n",
    "# get_variable只能定义一次指定名称的变量"
   ]
  },
  {
   "cell_type": "code",
   "execution_count": 10,
   "metadata": {},
   "outputs": [
    {
     "name": "stdout",
     "output_type": "stream",
     "text": [
      "get_var1: firstvar1:0\n"
     ]
    }
   ],
   "source": [
    "# 应该把命名改一下 \n",
    "get_var1 = tf.get_variable(\n",
    "    \"firstvar1\", [1], initializer=tf.constant_initializer(0.4))\n",
    "print(\"get_var1:\", get_var1.name)"
   ]
  },
  {
   "cell_type": "code",
   "execution_count": 11,
   "metadata": {},
   "outputs": [
    {
     "name": "stdout",
     "output_type": "stream",
     "text": [
      "get_var1= [0.4]\n"
     ]
    }
   ],
   "source": [
    "with tf.Session() as sess:\n",
    "    sess.run(tf.global_variables_initializer())\n",
    "    print(\"get_var1=\", get_var1.eval())"
   ]
  },
  {
   "cell_type": "code",
   "execution_count": null,
   "metadata": {},
   "outputs": [],
   "source": []
  }
 ],
 "metadata": {
  "kernelspec": {
   "display_name": "Python [conda env:tf]",
   "language": "python",
   "name": "conda-env-tf-py"
  },
  "language_info": {
   "codemirror_mode": {
    "name": "ipython",
    "version": 3
   },
   "file_extension": ".py",
   "mimetype": "text/x-python",
   "name": "python",
   "nbconvert_exporter": "python",
   "pygments_lexer": "ipython3",
   "version": "3.6.2"
  }
 },
 "nbformat": 4,
 "nbformat_minor": 2
}
