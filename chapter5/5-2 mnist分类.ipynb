{
 "cells": [
  {
   "cell_type": "markdown",
   "metadata": {},
   "source": [
    "- （1）导入NMIST数据集。\n",
    "- （2）分析MNIST样本特点定义变量。\n",
    "- （3）构建模型。\n",
    "- （4）训练模型并输出中间状态参数。\n",
    "- （5）测试模型。\n",
    "- （6）保存模型。\n",
    "- （7）读取模型。"
   ]
  },
  {
   "cell_type": "markdown",
   "metadata": {},
   "source": [
    "## 1.导入NMIST数据集"
   ]
  },
  {
   "cell_type": "code",
   "execution_count": 2,
   "metadata": {},
   "outputs": [
    {
     "name": "stdout",
     "output_type": "stream",
     "text": [
      "Extracting MNIST_data/train-images-idx3-ubyte.gz\n",
      "Extracting MNIST_data/train-labels-idx1-ubyte.gz\n",
      "Extracting MNIST_data/t10k-images-idx3-ubyte.gz\n",
      "Extracting MNIST_data/t10k-labels-idx1-ubyte.gz\n"
     ]
    }
   ],
   "source": [
    "import pylab\n",
    "import tensorflow as tf\n",
    "from tensorflow.examples.tutorials.mnist import input_data\n",
    "\n",
    "mnist = input_data.read_data_sets(\"MNIST_data/\", one_hot=True)\n",
    "\n",
    "tf.reset_default_graph()"
   ]
  },
  {
   "cell_type": "markdown",
   "metadata": {},
   "source": [
    "## 2.分析MNIST样本特点定义变量"
   ]
  },
  {
   "cell_type": "code",
   "execution_count": 3,
   "metadata": {
    "collapsed": true
   },
   "outputs": [],
   "source": [
    "# tf Graph Input\n",
    "x = tf.placeholder(tf.float32, [None, 784])  # mnist data维度 28*28=784\n",
    "y = tf.placeholder(tf.float32, [None, 10])  # 0-9 数字=> 10 classes"
   ]
  },
  {
   "cell_type": "markdown",
   "metadata": {},
   "source": [
    "## 3.构建模型"
   ]
  },
  {
   "cell_type": "code",
   "execution_count": 4,
   "metadata": {
    "collapsed": true
   },
   "outputs": [],
   "source": [
    "# 定义学习参数\n",
    "W = tf.Variable(tf.random_normal([784, 10]))\n",
    "b = tf.Variable(tf.zeros([10]))"
   ]
  },
  {
   "cell_type": "code",
   "execution_count": 5,
   "metadata": {
    "collapsed": true
   },
   "outputs": [],
   "source": [
    "# 定义输出节点\n",
    "pred = tf.nn.softmax(tf.matmul(x, W) + b)  # Softmax分类"
   ]
  },
  {
   "cell_type": "code",
   "execution_count": 6,
   "metadata": {
    "collapsed": true
   },
   "outputs": [],
   "source": [
    "# 定义反向传播的结构\n",
    "\n",
    "# 损失函数，交叉熵\n",
    "# 等同于tf.softmax_cross_entropy_with_logits(logits, labels, name = None)\n",
    "cost = tf.reduce_mean(-tf.reduce_sum(y*tf.log(pred), reduction_indices=1))\n",
    "# 学习率\n",
    "learning_rate = 0.01\n",
    "# 使用梯度下降优化器\n",
    "optimizer = tf.train.GradientDescentOptimizer(learning_rate).minimize(cost)"
   ]
  },
  {
   "cell_type": "markdown",
   "metadata": {},
   "source": [
    "## 4.训练模型并输出中间状态参数"
   ]
  },
  {
   "cell_type": "code",
   "execution_count": 7,
   "metadata": {},
   "outputs": [
    {
     "name": "stdout",
     "output_type": "stream",
     "text": [
      "Epoch: 0001 cost= 8.733624019\n",
      "Epoch: 0002 cost= 4.548955250\n",
      "Epoch: 0003 cost= 3.091891566\n",
      "Epoch: 0004 cost= 2.408790582\n",
      "Epoch: 0005 cost= 2.017469868\n",
      "Epoch: 0006 cost= 1.766134374\n",
      "Epoch: 0007 cost= 1.590986501\n",
      "Epoch: 0008 cost= 1.461794613\n",
      "Epoch: 0009 cost= 1.362082972\n",
      "Epoch: 0010 cost= 1.282387090\n",
      "Epoch: 0011 cost= 1.217135234\n",
      "Epoch: 0012 cost= 1.162327440\n",
      "Epoch: 0013 cost= 1.115867527\n",
      "Epoch: 0014 cost= 1.075725819\n",
      "Epoch: 0015 cost= 1.040594859\n",
      "Epoch: 0016 cost= 1.009462491\n",
      "Epoch: 0017 cost= 0.981809966\n",
      "Epoch: 0018 cost= 0.956902373\n",
      "Epoch: 0019 cost= 0.934415015\n",
      "Epoch: 0020 cost= 0.913846343\n",
      "Epoch: 0021 cost= 0.895060736\n",
      "Epoch: 0022 cost= 0.877698697\n",
      "Epoch: 0023 cost= 0.861614855\n",
      "Epoch: 0024 cost= 0.846762717\n",
      "Epoch: 0025 cost= 0.832872507\n",
      " Finished!\n",
      "Accuracy: 0.8347\n",
      "Model saved in file: log/521model.ckpt\n"
     ]
    }
   ],
   "source": [
    "# 整个训练样本集迭代25次\n",
    "training_epochs = 25\n",
    "# 一次取100条数据进行训练\n",
    "batch_size = 100\n",
    "# 每训练一次就把具体的中间状态显示出来\n",
    "display_step = 1\n",
    "\n",
    "# 启动session\n",
    "with tf.Session() as sess:\n",
    "    sess.run(tf.global_variables_initializer())  # Initializing OP\n",
    "\n",
    "    # 启动循环开始训练\n",
    "    for epoch in range(training_epochs):\n",
    "        avg_cost = 0.\n",
    "        total_batch = int(mnist.train.num_examples/batch_size)\n",
    "        # 遍历全部数据集\n",
    "        for i in range(total_batch):\n",
    "            batch_xs, batch_ys = mnist.train.next_batch(batch_size)\n",
    "            # 运行优化器\n",
    "            _, c = sess.run([optimizer, cost], feed_dict={x: batch_xs,\n",
    "                                                          y: batch_ys})\n",
    "            # 计算平均loss值\n",
    "            avg_cost += c / total_batch\n",
    "        \n",
    "        # 显示训练中的详细信息\n",
    "        if (epoch+1) % display_step == 0:\n",
    "            print(\"Epoch:\", '%04d' % (epoch+1),\n",
    "                  \"cost=\", \"{:.9f}\".format(avg_cost))\n",
    "    print(\" Finished!\")\n",
    "    \n",
    "    \n",
    "# 5.测试模型\n",
    "    \n",
    "    # 测试 model\n",
    "    correct_prediction = tf.equal(tf.argmax(pred, 1), tf.argmax(y, 1))\n",
    "    # 计算准确率\n",
    "    accuracy = tf.reduce_mean(tf.cast(correct_prediction, tf.float32))\n",
    "    print(\"Accuracy:\", accuracy.eval(\n",
    "        {x: mnist.test.images, y: mnist.test.labels}))\n",
    "\n",
    "    \n",
    "# 6.保存模型\n",
    "    # 创建saver\n",
    "    saver = tf.train.Saver()\n",
    "    # 创建保存路径\n",
    "    model_path = \"log/521model.ckpt\"\n",
    "    save_path = saver.save(sess, model_path)\n",
    "    print(\"Model saved in file: %s\" % save_path)"
   ]
  },
  {
   "cell_type": "markdown",
   "metadata": {},
   "source": [
    "## 7.读取模型"
   ]
  },
  {
   "cell_type": "code",
   "execution_count": 8,
   "metadata": {},
   "outputs": [
    {
     "name": "stdout",
     "output_type": "stream",
     "text": [
      "Starting 2nd session...\n",
      "INFO:tensorflow:Restoring parameters from log/521model.ckpt\n",
      "Accuracy: 0.8347\n",
      "[6 9] [[1.22711476e-11 2.16345518e-12 6.21929985e-07 4.14104201e-15\n",
      "  2.38514950e-08 9.44084221e-13 9.99999404e-01 2.05491284e-11\n",
      "  8.92980445e-09 3.15156399e-08]\n",
      " [9.50512412e-12 1.93728306e-06 1.31805052e-06 7.15214433e-03\n",
      "  2.88576441e-04 1.77978333e-02 5.47279342e-08 1.31219225e-02\n",
      "  8.52764919e-02 8.76359701e-01]] [[0. 0. 0. 0. 0. 0. 1. 0. 0. 0.]\n",
      " [0. 0. 0. 0. 0. 0. 0. 0. 0. 1.]]\n"
     ]
    },
    {
     "data": {
      "image/png": "[encoded data removed]",
      "text/plain": [
       "<Figure size 432x288 with 1 Axes>"
      ]
     },
     "metadata": {},
     "output_type": "display_data"
    },
    {
     "data": {
      "image/png": "[encoded data removed]",
      "text/plain": [
       "<Figure size 432x288 with 1 Axes>"
      ]
     },
     "metadata": {},
     "output_type": "display_data"
    }
   ],
   "source": [
    "#读取模型\n",
    "print(\"Starting 2nd session...\")\n",
    "with tf.Session() as sess:\n",
    "    # 初始化变量\n",
    "    sess.run(tf.global_variables_initializer())\n",
    "    # 恢复模型变量\n",
    "    saver.restore(sess, model_path)\n",
    "    \n",
    "     # 测试 model\n",
    "    correct_prediction = tf.equal(tf.argmax(pred, 1), tf.argmax(y, 1))\n",
    "    # 计算准确率\n",
    "    accuracy = tf.reduce_mean(tf.cast(correct_prediction, tf.float32))\n",
    "    print (\"Accuracy:\", accuracy.eval({x: mnist.test.images, y: mnist.test.labels}))\n",
    "    \n",
    "    output = tf.argmax(pred, 1)\n",
    "    batch_xs, batch_ys = mnist.train.next_batch(2)\n",
    "    outputval,predv = sess.run([output,pred], feed_dict={x: batch_xs})\n",
    "    print(outputval,predv,batch_ys)\n",
    "\n",
    "    im = batch_xs[0]\n",
    "    im = im.reshape(-1,28)\n",
    "    pylab.imshow(im)\n",
    "    pylab.show()\n",
    "    \n",
    "    im = batch_xs[1]\n",
    "    im = im.reshape(-1,28)\n",
    "    pylab.imshow(im)\n",
    "    pylab.show()"
   ]
  },
  {
   "cell_type": "code",
   "execution_count": null,
   "metadata": {
    "collapsed": true
   },
   "outputs": [],
   "source": []
  }
 ],
 "metadata": {
  "kernelspec": {
   "display_name": "Python [conda env:tf]",
   "language": "python",
   "name": "conda-env-tf-py"
  },
  "language_info": {
   "codemirror_mode": {
    "name": "ipython",
    "version": 3
   },
   "file_extension": ".py",
   "mimetype": "text/x-python",
   "name": "python",
   "nbconvert_exporter": "python",
   "pygments_lexer": "ipython3",
   "version": "3.6.2"
  },
  "toc": {
   "base_numbering": 1,
   "nav_menu": {},
   "number_sections": true,
   "sideBar": true,
   "skip_h1_title": false,
   "title_cell": "Table of Contents",
   "title_sidebar": "Contents",
   "toc_cell": false,
   "toc_position": {},
   "toc_section_display": true,
   "toc_window_display": false
  }
 },
 "nbformat": 4,
 "nbformat_minor": 2
}
